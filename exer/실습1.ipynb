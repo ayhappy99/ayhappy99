{
 "cells": [
  {
   "cell_type": "code",
   "execution_count": 24,
   "metadata": {},
   "outputs": [
    {
     "name": "stdout",
     "output_type": "stream",
     "text": [
      "Hello World!\n",
      "200000\n",
      "3.141592\n",
      "My Age is 23 !\n"
     ]
    }
   ],
   "source": [
    "# print() function\n",
    "\n",
    "\n",
    "print(\"Hello World!\")\n",
    "print(200000)\n",
    "pi=3.141592\n",
    "print(pi)\n",
    "\n",
    "intro = \"My Age is\"\n",
    "age = \" 23 \"\n",
    "print(intro + age + \"!\")"
   ]
  },
  {
   "cell_type": "code",
   "execution_count": 25,
   "metadata": {},
   "outputs": [],
   "source": [
    "# variables\n",
    "\n",
    "#나를 표현할 수 있는 정보 세 가지 이상을 변수로 선언하시오.\n",
    "\n",
    "user_name = \"Seong A Park\"\n",
    "user_id = 201855089\n",
    "user_email = \"ay12332@naver.com\"\n",
    "is_student = True"
   ]
  },
  {
   "cell_type": "code",
   "execution_count": 26,
   "metadata": {},
   "outputs": [],
   "source": [
    "\"\"\"\n",
    "Date Types: Integers\n",
    "\"\"\"\n",
    "\n",
    "#집에 있는 세 가지 이상의 사물의 갯수를 정수 변수로 표현하시오.\n",
    "\n",
    "chairs = 6\n",
    "tables = 1\n",
    "televison = -3\n",
    "bed = 0\n",
    "\n"
   ]
  },
  {
   "cell_type": "code",
   "execution_count": 27,
   "metadata": {},
   "outputs": [],
   "source": [
    "\"\"\"\n",
    "Date Types: Real Numbers\n",
    "\"\"\"\n",
    "\n",
    "#본인이 알고있는 세 개의 실수를 변수로 정의하시오.\n",
    "\n",
    "PI = 3.14\n",
    "kosdaq = 1037.84\n",
    "IXIC = 15052.24"
   ]
  },
  {
   "cell_type": "code",
   "execution_count": 28,
   "metadata": {},
   "outputs": [
    {
     "name": "stdout",
     "output_type": "stream",
     "text": [
      "You can Do it \n",
      "League of Legends \n",
      "Sonny\n",
      "You can Do it League of Legends Sonny\n"
     ]
    }
   ],
   "source": [
    "\"\"\"\n",
    "Date Types : Strings\n",
    "\"\"\"\n",
    "\n",
    "favorite_motto = \"You can Do it \"\n",
    "favorite_game = \"League of Legends \"\n",
    "favorite_athlete = 'Sonny'\n",
    "\n",
    "print(favorite_motto)\n",
    "print(favorite_game)\n",
    "print(favorite_athlete)\n",
    "\n",
    "favorites = favorite_motto + favorite_game + favorite_athlete\n",
    "\n",
    "print(favorites)"
   ]
  },
  {
   "cell_type": "code",
   "execution_count": 29,
   "metadata": {},
   "outputs": [
    {
     "name": "stdout",
     "output_type": "stream",
     "text": [
      "8\n"
     ]
    }
   ],
   "source": [
    "\"\"\"\n",
    "x- Equals Operations\n",
    "\"\"\"\n",
    "\n",
    "a = 2 \n",
    "a**=3\n",
    "\n",
    "print(a)"
   ]
  },
  {
   "cell_type": "code",
   "execution_count": 32,
   "metadata": {},
   "outputs": [
    {
     "ename": "NameError",
     "evalue": "name 'my_name_is' is not defined",
     "output_type": "error",
     "traceback": [
      "\u001b[1;31m---------------------------------------------------------------------------\u001b[0m",
      "\u001b[1;31mNameError\u001b[0m                                 Traceback (most recent call last)",
      "\u001b[1;32m<ipython-input-32-174dc115bd2c>\u001b[0m in \u001b[0;36m<module>\u001b[1;34m\u001b[0m\n\u001b[0;32m      5\u001b[0m \u001b[1;31m#Name error\u001b[0m\u001b[1;33m\u001b[0m\u001b[1;33m\u001b[0m\u001b[1;33m\u001b[0m\u001b[0m\n\u001b[0;32m      6\u001b[0m \u001b[1;33m\u001b[0m\u001b[0m\n\u001b[1;32m----> 7\u001b[1;33m \u001b[0mprint\u001b[0m\u001b[1;33m(\u001b[0m\u001b[0mmy_name_is\u001b[0m\u001b[1;33m)\u001b[0m\u001b[1;33m\u001b[0m\u001b[1;33m\u001b[0m\u001b[0m\n\u001b[0m\u001b[0;32m      8\u001b[0m \u001b[0mname\u001b[0m \u001b[1;33m=\u001b[0m \u001b[1;34m\" Seong A PARK\"\u001b[0m\u001b[1;33m\u001b[0m\u001b[1;33m\u001b[0m\u001b[0m\n",
      "\u001b[1;31mNameError\u001b[0m: name 'my_name_is' is not defined"
     ]
    }
   ],
   "source": [
    "\"\"\"\n",
    "Errors\n",
    "\"\"\"\n",
    "\n",
    "#Name error\n",
    "\n",
    "print(my_name_is)\n",
    "name = \" Seong A PARK\""
   ]
  },
  {
   "cell_type": "code",
   "execution_count": null,
   "metadata": {},
   "outputs": [],
   "source": []
  }
 ],
 "metadata": {
  "kernelspec": {
   "display_name": "Python 3",
   "language": "python",
   "name": "python3"
  },
  "language_info": {
   "codemirror_mode": {
    "name": "ipython",
    "version": 3
   },
   "file_extension": ".py",
   "mimetype": "text/x-python",
   "name": "python",
   "nbconvert_exporter": "python",
   "pygments_lexer": "ipython3",
   "version": "3.8.5"
  }
 },
 "nbformat": 4,
 "nbformat_minor": 4
}
