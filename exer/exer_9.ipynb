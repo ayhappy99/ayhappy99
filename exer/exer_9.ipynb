{
 "cells": [
  {
   "cell_type": "code",
   "execution_count": 1,
   "metadata": {},
   "outputs": [],
   "source": [
    "# pip install requests"
   ]
  },
  {
   "cell_type": "code",
   "execution_count": 2,
   "metadata": {},
   "outputs": [],
   "source": [
    "# pip install beautifulsoup4"
   ]
  },
  {
   "cell_type": "code",
   "execution_count": 3,
   "metadata": {},
   "outputs": [],
   "source": [
    "\"\"\"\n",
    "Exercise 1: Search '메타버스' news on Naver\n",
    "\"\"\"\n",
    "# HTTP Request\n",
    "import requests\n",
    "\n",
    "url = 'https://search.naver.com/search.naver?where=nexearch&sm=top_hty&fbm=0&ie=utf8&query=%EB%A9%94%ED%83%80%EB%B2%84%EC%8A%A4'\n",
    "res = requests.get(url)  # HTTP GET Request\n",
    "\n",
    "html_doc = res.text      # get texts from the HTML response result\n"
   ]
  },
  {
   "cell_type": "code",
   "execution_count": 4,
   "metadata": {},
   "outputs": [],
   "source": [
    "\"\"\"\n",
    "Use BeautifulSoup Parser\n",
    "\"\"\"\n",
    "\n",
    "from bs4 import BeautifulSoup\n",
    "# html, xml, lxml,\n",
    "# Create a parser\n",
    "soup = BeautifulSoup(html_doc, 'html.parser')\n",
    "# print(soup.prettify())  # structuring the tags"
   ]
  },
  {
   "cell_type": "code",
   "execution_count": 5,
   "metadata": {},
   "outputs": [],
   "source": [
    "# Extract news information\n",
    "\n",
    "news = soup.find_all(\"a\", {\"class\":\"news_tit\"})\n",
    "# print(news)"
   ]
  },
  {
   "cell_type": "code",
   "execution_count": 6,
   "metadata": {},
   "outputs": [
    {
     "data": {
      "text/plain": [
       "<a class=\"news_tit\" href=\"http://www.newsis.com/view/?id=NISX20211213_0001685494&amp;cID=10301&amp;pID=10300\" onclick=\"return goOtherCR(this, 'a=nws_all*h.tit&amp;r=1&amp;i=88000127_000000000000000010885341&amp;g=003.0010885341&amp;u='+urlencode(this.href));\" target=\"_blank\" title=\"안철수의 '안랩' 메타버스 투자 대박…10년전 2천만원→250억으로\">안철수의 '안랩' <mark>메타버스</mark> 투자 대박…10년전 2천만원→250억으로</a>"
      ]
     },
     "execution_count": 6,
     "metadata": {},
     "output_type": "execute_result"
    }
   ],
   "source": [
    "# First news\n",
    "news[0]"
   ]
  },
  {
   "cell_type": "code",
   "execution_count": 7,
   "metadata": {},
   "outputs": [
    {
     "data": {
      "text/plain": [
       "'http://www.newsis.com/view/?id=NISX20211213_0001685494&cID=10301&pID=10300'"
      ]
     },
     "execution_count": 7,
     "metadata": {},
     "output_type": "execute_result"
    }
   ],
   "source": [
    " #Get a url of the first news\n",
    "news[0].get('href')"
   ]
  },
  {
   "cell_type": "code",
   "execution_count": 8,
   "metadata": {},
   "outputs": [
    {
     "data": {
      "text/plain": [
       "\"안철수의 '안랩' 메타버스 투자 대박…10년전 2천만원→250억으로\""
      ]
     },
     "execution_count": 8,
     "metadata": {},
     "output_type": "execute_result"
    }
   ],
   "source": [
    "# Get a title\n",
    "news[0].get('title')"
   ]
  },
  {
   "cell_type": "code",
   "execution_count": 9,
   "metadata": {},
   "outputs": [
    {
     "data": {
      "text/plain": [
       "4"
      ]
     },
     "execution_count": 9,
     "metadata": {},
     "output_type": "execute_result"
    }
   ],
   "source": [
    "len(news)"
   ]
  },
  {
   "cell_type": "code",
   "execution_count": 10,
   "metadata": {},
   "outputs": [
    {
     "name": "stdout",
     "output_type": "stream",
     "text": [
      "안철수의 '안랩' 메타버스 투자 대박…10년전 2천만원→250억으로\n",
      "[STOCK] 셀바스AI, AI음성기술로 성장 가속화… \"떠오르는 메타버스 수혜주\"\n",
      "삼정KPMG “2022년 게임업계 화두는 메타버스, NFT”\n",
      "KT DS, ‘메타버스 교육 플랫폼’ 이투스교육에 구축\n"
     ]
    }
   ],
   "source": [
    "for i in range(len(news)):\n",
    "    print(news[i].get('title'))"
   ]
  },
  {
   "cell_type": "code",
   "execution_count": 11,
   "metadata": {},
   "outputs": [],
   "source": [
    "\"\"\"\n",
    "Exercise 2: Investing.com\n",
    "\"\"\"\n",
    "import requests\n",
    "url = 'https://www.investing.com/equities/tesla-motors'\n",
    "\n",
    "res = requests.get(url)\n",
    "html_doc = res.text"
   ]
  },
  {
   "cell_type": "code",
   "execution_count": 12,
   "metadata": {},
   "outputs": [],
   "source": [
    "from bs4 import BeautifulSoup\n",
    "soup = BeautifulSoup(html_doc, 'html.parser')\n",
    "# print(soup.prettify())  # structuring the tags"
   ]
  },
  {
   "cell_type": "code",
   "execution_count": 13,
   "metadata": {},
   "outputs": [
    {
     "name": "stdout",
     "output_type": "stream",
     "text": [
      "[<dt>Prev. Close</dt>, <dt>Day's Range</dt>, <dt>Revenue</dt>, <dt>Open</dt>, <dt>52 wk Range</dt>, <dt>EPS</dt>, <dt>Volume</dt>, <dt>Market Cap</dt>, <dt>Dividend (Yield)</dt>, <dt>Average Vol. (3m)</dt>, <dt>P/E Ratio</dt>, <dt>Beta</dt>, <dt>1-Year Change</dt>, <dt>Shares Outstanding</dt>, <dt>Next Earnings Date</dt>]\n"
     ]
    }
   ],
   "source": [
    "keys = soup.find_all('dt')\n",
    "print(keys)"
   ]
  },
  {
   "cell_type": "code",
   "execution_count": 14,
   "metadata": {},
   "outputs": [
    {
     "name": "stdout",
     "output_type": "stream",
     "text": [
      "[<span class=\"key-info_dd-numeric__2cYjc\"><span>1,003.8</span><span></span></span>, <span class=\"key-info_dd-numeric__2cYjc\"><span>982.53</span><span></span></span>, <span class=\"key-info_dd-numeric__2cYjc\"><span>1,020.98</span><span></span></span>, <span class=\"key-info_dd-numeric__2cYjc\"><span>46.85</span><span>B</span></span>, <span class=\"key-info_dd-numeric__2cYjc\"><span>1,008.75</span><span></span></span>, <span class=\"key-info_dd-numeric__2cYjc\"><span>539.49</span><span></span></span>, <span class=\"key-info_dd-numeric__2cYjc\"><span>1,243.49</span><span></span></span>, <span class=\"key-info_dd-numeric__2cYjc\"><span>3.08</span><span></span></span>, <span class=\"key-info_dd-numeric__2cYjc\"><span>19,657,836</span><span></span></span>, <span class=\"key-info_dd-numeric__2cYjc\"><span>1.02</span><span>T</span></span>, <span class=\"key-info_dd-numeric__2cYjc\"><span>25,275,192</span><span></span></span>, <span class=\"key-info_dd-numeric__2cYjc\"><span>330.02</span><span></span></span>, <span class=\"key-info_dd-numeric__2cYjc\"><span>2</span><span></span></span>, <span class=\"key-info_dd-numeric__2cYjc\"><span>66.73</span><span>%</span></span>, <span class=\"key-info_dd-numeric__2cYjc\"><span>1,006,419,424</span><span></span></span>]\n"
     ]
    }
   ],
   "source": [
    "vals = soup.find_all('span', {'class': 'key-info_dd-numeric__2cYjc'})\n",
    "print(vals)"
   ]
  },
  {
   "cell_type": "code",
   "execution_count": 15,
   "metadata": {},
   "outputs": [
    {
     "name": "stdout",
     "output_type": "stream",
     "text": [
      "Prev. Close = 1,003.8\n",
      "Day's Range = 982.53\n",
      "Revenue = 1,020.98\n",
      "Open = 46.85B\n",
      "52 wk Range = 1,008.75\n",
      "EPS = 539.49\n",
      "Volume = 1,243.49\n",
      "Market Cap = 3.08\n",
      "Dividend (Yield) = 19,657,836\n",
      "Average Vol. (3m) = 1.02T\n",
      "P/E Ratio = 25,275,192\n",
      "Beta = 330.02\n",
      "1-Year Change = 2\n",
      "Shares Outstanding = 66.73%\n",
      "Next Earnings Date = 1,006,419,424\n"
     ]
    }
   ],
   "source": [
    "for i in range(len(vals)):\n",
    "    print(keys[i].get_text(), '=', vals[i].get_text())"
   ]
  }
 ],
 "metadata": {
  "kernelspec": {
   "display_name": "Python 3",
   "language": "python",
   "name": "python3"
  },
  "language_info": {
   "codemirror_mode": {
    "name": "ipython",
    "version": 3
   },
   "file_extension": ".py",
   "mimetype": "text/x-python",
   "name": "python",
   "nbconvert_exporter": "python",
   "pygments_lexer": "ipython3",
   "version": "3.8.5"
  }
 },
 "nbformat": 4,
 "nbformat_minor": 4
}
