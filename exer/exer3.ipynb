{
 "cells": [
  {
   "cell_type": "code",
   "execution_count": 2,
   "metadata": {},
   "outputs": [
    {
     "name": "stdout",
     "output_type": "stream",
     "text": [
      "[2, 3, 5, 7, 11, 2]\n",
      "[]\n"
     ]
    }
   ],
   "source": [
    "\"\"\"\n",
    "Lists\n",
    "\"\"\"\n",
    "\n",
    "primes = [2,3,5,7,11,2]\n",
    "print(primes)\n",
    "\n",
    "empty_list = []\n",
    "print(empty_list)"
   ]
  },
  {
   "cell_type": "code",
   "execution_count": 7,
   "metadata": {},
   "outputs": [
    {
     "name": "stdout",
     "output_type": "stream",
     "text": [
      "['Jenny', 1, 1.4, True]\n",
      "[['a', 1], ['b', 2]]\n"
     ]
    }
   ],
   "source": [
    "\"\"\"\n",
    "Multiple different data types\n",
    "\"\"\"\n",
    "mixed = ['Jenny',1,1.4,True]\n",
    "print(mixed)\n",
    "list_of_lists = [['a',1],['b',2]]\n",
    "print(list_of_lists)"
   ]
  },
  {
   "cell_type": "code",
   "execution_count": 9,
   "metadata": {},
   "outputs": [
    {
     "name": "stdout",
     "output_type": "stream",
     "text": [
      "Roger\n",
      "Rafael\n",
      "Andy\n",
      "Novak\n"
     ]
    }
   ],
   "source": [
    "\"\"\"\n",
    "Zero-indexing\n",
    "\"\"\"\n",
    "names =['Roger','Rafael','Andy','Novak']\n",
    "print(names[0])\n",
    "print(names[1])\n",
    "print(names[2])\n",
    "print(names[3])"
   ]
  },
  {
   "cell_type": "code",
   "execution_count": 11,
   "metadata": {},
   "outputs": [
    {
     "name": "stdout",
     "output_type": "stream",
     "text": [
      "Novak\n",
      "Andy\n",
      "Rafael\n",
      "Roger\n"
     ]
    }
   ],
   "source": [
    "\"\"\"\n",
    "Negative indexing\n",
    "\"\"\"\n",
    "print(names[-1]) #Last data\n",
    "print(names[-2]) #second to Last data\n",
    "print(names[-3]) #third to last data\n",
    "print(names[-4])"
   ]
  },
  {
   "cell_type": "code",
   "execution_count": 20,
   "metadata": {},
   "outputs": [
    {
     "name": "stdout",
     "output_type": "stream",
     "text": [
      "['생활관', '장공관', '필헌관', '소통관']\n",
      "['만우관', '장공관', '필헌관', '소통관', '송암관', '늦봄관', '장준하통일관']\n",
      "['만우관', '장공관', '필헌관', '소통관', '송암관', '늦봄관', '장준하통일관']\n"
     ]
    }
   ],
   "source": [
    "\"\"\"\n",
    "List slicing\n",
    "\"\"\"\n",
    "\n",
    "hsu_buildings = ['만우관','장공관','필헌관','소통관','송암관','늦봄관','장준하통일관']\n",
    "building_slice = hsu_buildings[:4] #독립적인개체로 따로 메모리에 생성\n",
    "building_slice[0] = '생활관' #원본리스트변화없음\n",
    "print(building_slice)\n",
    "print(hsu_buildings)\n",
    "print(hsu_buildings[:])"
   ]
  },
  {
   "cell_type": "code",
   "execution_count": 24,
   "metadata": {},
   "outputs": [
    {
     "name": "stdout",
     "output_type": "stream",
     "text": [
      "[['해우리', '한식', '고S'], ['짜장명가', '중식', '중화비빔밥'], ['찌개동아리', '한식', '제육전골'], ['맘스터치', '양식', '싸이버거']]\n",
      "['해우리', '한식', '해우라면']\n"
     ]
    }
   ],
   "source": [
    "\"\"\"\n",
    "Multi-dimensional Lists\n",
    "\"\"\"\n",
    "restaurants = [['해우리','한식','고S'],['짜장명가','중식','중화비빔밥'],\n",
    "              ['찌개동아리','한식','제육전골'],['맘스터치','양식','싸이버거']]\n",
    "print(restaurants)\n",
    "#print(restaurants[1][2]) \n",
    "restaurants[0][2] = '해우라면'\n",
    "print(restaurants[0])"
   ]
  },
  {
   "cell_type": "code",
   "execution_count": 26,
   "metadata": {},
   "outputs": [
    {
     "name": "stdout",
     "output_type": "stream",
     "text": [
      "['cake', 'cookie', 'bread', 'biscuit', 'tart']\n"
     ]
    }
   ],
   "source": [
    "\"\"\"\n",
    "Adding Lists Together\n",
    "\"\"\"\n",
    "\n",
    "items_one = ['cake','cookie','bread']\n",
    "items_two = ['biscuit','tart']\n",
    "total_items = items_one + items_two\n",
    "print(total_items)"
   ]
  },
  {
   "cell_type": "code",
   "execution_count": 34,
   "metadata": {},
   "outputs": [
    {
     "name": "stdout",
     "output_type": "stream",
     "text": [
      "5\n",
      "['daisies', 'periwinkle', 'tulips']\n",
      "['Karla', 'Maximum', 'Vikor', 'Martin', 'Isabella']\n",
      "[1, 2, 3, 4]\n",
      "['늦봄관', '만우관', '소통관', '송암관', '장공관', '장준하통일관', '필헌관']\n"
     ]
    }
   ],
   "source": [
    "\"\"\"\n",
    "Useful Methods for Lists\n",
    "\"\"\"\n",
    "\n",
    "#Len() \n",
    "knapsack = [2,4,3,7,10]\n",
    "size = len(knapsack)\n",
    "print(size)\n",
    "\n",
    "#count() 특정아이템개수 리턴\n",
    "\n",
    "#append() 아이템을 리스트 끝에 추가\n",
    "orders = ['daisies','periwinkle']\n",
    "orders.append('tulips')\n",
    "\n",
    "print(orders)\n",
    "\n",
    "#insert() 원하는위치에 아이템 추가\n",
    "store_line = ['Karla','Maximum','Martin','Isabella']\n",
    "store_line.insert(2,'Vikor')\n",
    "print(store_line)\n",
    "\n",
    "#pop() 특정위치 아이템 삭제 ,인덱스지정해야함\n",
    "\n",
    "#sort() 오름차순 정렬\n",
    "numbers = [4,2,1,3]\n",
    "numbers.sort()\n",
    "print(numbers)\n",
    "\n",
    "\n",
    "hsu_buildings = ['만우관','장공관','필헌관','소통관','송암관','늦봄관','장준하통일관']\n",
    "hsu_buildings.sort()\n",
    "print(hsu_buildings)"
   ]
  }
 ],
 "metadata": {
  "kernelspec": {
   "display_name": "Python 3",
   "language": "python",
   "name": "python3"
  },
  "language_info": {
   "codemirror_mode": {
    "name": "ipython",
    "version": 3
   },
   "file_extension": ".py",
   "mimetype": "text/x-python",
   "name": "python",
   "nbconvert_exporter": "python",
   "pygments_lexer": "ipython3",
   "version": "3.8.5"
  }
 },
 "nbformat": 4,
 "nbformat_minor": 4
}
