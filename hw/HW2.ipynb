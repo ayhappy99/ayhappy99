{
 "cells": [
  {
   "cell_type": "code",
   "execution_count": 5,
   "metadata": {},
   "outputs": [
    {
     "name": "stdout",
     "output_type": "stream",
     "text": [
      "[['physics', 98], ['calculus', 97], ['poetry', 'pass'], ['history', 88], ['computer science', 100], ['visual arts', 98]]\n",
      "[['politics', 80], ['latin', 96], ['dance', 97], ['architecture', 65], ['physics', 98], ['calculus', 97], ['poetry', 'pass'], ['history', 88], ['computer science', 100], ['visual arts', 98]]\n"
     ]
    }
   ],
   "source": [
    "subjects = [\"physics\", \"calculus\",\"poetry\",\"history\"]\n",
    "# 과목리스트\n",
    "\n",
    "grades = [98,97,85,88]\n",
    "# 성적리스트\n",
    "\n",
    "gradebook = [[\"physics\", 98], [\"calculus\", 97], [\"poetry\", 85], [\"history\", 88]]\n",
    "# 2차원 리스트\n",
    "\n",
    "gradebook.append([\"computer science\",100])\n",
    "#append를 이용해 성적 추가 입력\n",
    "gradebook.append([\"visual arts\", 93])\n",
    "\n",
    "gradebook[5][1]+=5\n",
    "#index를 통해 점수 추가\n",
    "\n",
    "gradebook[2].remove(85)\n",
    "#remove를 이용해 점수 제거\n",
    "\n",
    "gradebook[2].append(\"pass\")\n",
    "#pass값 추가\n",
    "\n",
    "last_semester_gradebook = [[\"politics\", 80], [\"latin\", 96], [\"dance\", 97], [\"architecture\", 65]]\n",
    "#이전학기 성적표 생성\n",
    "\n",
    "full_gradebook = last_semester_gradebook+gradebook\n",
    "#이전학기+현학기 성적더함\n",
    "\n",
    "print(gradebook) \n",
    "print(full_gradebook)"
   ]
  }
 ],
 "metadata": {
  "kernelspec": {
   "display_name": "Python 3",
   "language": "python",
   "name": "python3"
  },
  "language_info": {
   "codemirror_mode": {
    "name": "ipython",
    "version": 3
   },
   "file_extension": ".py",
   "mimetype": "text/x-python",
   "name": "python",
   "nbconvert_exporter": "python",
   "pygments_lexer": "ipython3",
   "version": "3.8.5"
  }
 },
 "nbformat": 4,
 "nbformat_minor": 4
}
